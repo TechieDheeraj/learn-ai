{
 "cells": [
  {
   "cell_type": "markdown",
   "id": "3d2203f3",
   "metadata": {},
   "source": [
    "<h3> Q1: Given two matrices please print the product of those two \n",
    "matrices </h3>\n",
    "<pre>\n",
    "\n",
    "Ex 1: A   = [[1 3 4]\n",
    "             [2 5 7]\n",
    "             [5 9 6]]\n",
    "      B   = [[1 0 0]\n",
    "             [0 1 0]\n",
    "             [0 0 1]]\n",
    "      A*B = [[1 3 4]\n",
    "             [2 5 7]\n",
    "             [5 9 6]]\n",
    "\n",
    "     \n",
    "Ex 2: A   = [[1 2]\n",
    "             [3 4]]\n",
    "      B   = [[1 2 3 4 5]\n",
    "             [5 6 7 8 9]]\n",
    "      A*B = [[11 14 17 20 23]\n",
    "             [18 24 30 36 42]]\n",
    "             \n",
    "Ex 3: A   = [[1 2]\n",
    "             [3 4]]\n",
    "      B   = [[1 4]\n",
    "             [5 6]\n",
    "             [7 8]\n",
    "             [9 6]]\n",
    "      A*B =Not possible\n",
    "</pre>"
   ]
  },
  {
   "cell_type": "code",
   "execution_count": 10,
   "id": "6ca982f0",
   "metadata": {},
   "outputs": [],
   "source": [
    "A = [[1,3, 4],\n",
    "     [2, 5, 7],\n",
    "     [5, 9, 6]]\n",
    "\n",
    "B = [[1, 0, 0],\n",
    "    [0, 1, 0],\n",
    "    [0, 0, 1]]"
   ]
  },
  {
   "cell_type": "code",
   "execution_count": 24,
   "id": "5def5e32",
   "metadata": {},
   "outputs": [
    {
     "name": "stdout",
     "output_type": "stream",
     "text": [
      "[[1, 3, 4], [2, 5, 7], [5, 9, 6]]\n"
     ]
    }
   ],
   "source": [
    "final = []\n",
    "l = len(A) # Number of rows in A\n",
    "m1 = len(A[0]) # Number of cols in A\n",
    "m2 = len(B) # Number of rows in B\n",
    "p = len(B[0]) # Number of cols in B\n",
    "\n",
    "if m1 != m2:\n",
    "    print(\"A*B Not Possible\")\n",
    "\n",
    "for i in range(l):   # traverse every row in A\n",
    "    temp=[]\n",
    "    for j in range(p): # traverse every col in B\n",
    "        sum=0\n",
    "        for k in range(m2): # traverse every row in B\n",
    "            sum+=A[i][k]*B[k][j]\n",
    "        temp.append(sum)\n",
    "    final.append(temp)\n",
    "    \n",
    "print(final)"
   ]
  },
  {
   "cell_type": "markdown",
   "id": "fd71f6cf",
   "metadata": {},
   "source": [
    "<h3> Q3: Replace the digits in the string with #</h3>\n",
    "\n",
    "consider a string that will have digits in that, we need to remove all the not digits and replace the digits with #\n",
    "<pre>\n",
    "Ex 1: A = 234                Output: ###\n",
    "Ex 2: A = a2b3c4             Output: ###\n",
    "Ex 3: A = abc                Output:   (empty string)\n",
    "Ex 5: A = #2a$#b%c%561#      Output: ####\n",
    "</pre>"
   ]
  },
  {
   "cell_type": "code",
   "execution_count": 32,
   "id": "0bb9b306",
   "metadata": {},
   "outputs": [
    {
     "data": {
      "text/plain": [
       "'####'"
      ]
     },
     "execution_count": 32,
     "metadata": {},
     "output_type": "execute_result"
    }
   ],
   "source": [
    "def replace_digits(string):\n",
    "    count = 0\n",
    "    for i in range(len(string)):\n",
    "        if (string[i].isdigit()):\n",
    "            count+=1\n",
    "            \n",
    "    newString = '#'*count\n",
    "    return newString\n",
    "            \n",
    "replace_digits(\"#2a$#b%c%561#\")"
   ]
  },
  {
   "cell_type": "markdown",
   "id": "4e4b32c3",
   "metadata": {},
   "source": [
    "<h3> Q4: Students marks dashboard</h3>\n",
    "\n",
    "consider the marks list of class students given two lists <br>\n",
    "Students = ['student1','student2','student3','student4','student5','student6','student7','student8','student9','student10'] <br>\n",
    "Marks = [45, 78, 12, 14, 48, 43, 45, 98, 35, 80] <br>\n",
    "from the above two lists the Student[0] got Marks[0],  Student[1] got Marks[1] and so on <br><br>\n",
    "your task is to print the name of students\n",
    "<strong>a. Who got top 5 ranks, in the descending order of marks</strong> <br>\n",
    "<strong>b. Who got least 5 ranks, in the increasing order of marks</strong><br>\n",
    "<strong>d. Who got marks between  &gt;25th percentile &lt;75th percentile, in the increasing order of marks</strong>\n",
    "\n",
    "<pre>\n",
    "Ex 1: \n",
    "Students=['student1','student2','student3','student4','student5','student6','student7','student8','student9','student10'] \n",
    "Marks = [45, 78, 12, 14, 48, 43, 47, 98, 35, 80]\n",
    "a. \n",
    "student8  98\n",
    "student10 80\n",
    "student2  78\n",
    "student5  48\n",
    "student7  47\n",
    "b.\n",
    "student3 12\n",
    "student4 14\n",
    "student9 35\n",
    "student6 43\n",
    "student1 45\n",
    "c.\n",
    "student9 35\n",
    "student6 43\n",
    "student1 45\n",
    "student7 47\n",
    "student5 48\n",
    "</pre>"
   ]
  },
  {
   "cell_type": "markdown",
   "id": "71ca322f",
   "metadata": {},
   "source": [
    "<h3> Solution 1 </h3>"
   ]
  },
  {
   "cell_type": "code",
   "execution_count": 59,
   "id": "0230d63d",
   "metadata": {},
   "outputs": [
    {
     "name": "stdout",
     "output_type": "stream",
     "text": [
      "al  [{'student8': 98}, {'student10': 80}, {'student2': 78}, {'student5': 48}, {'student7': 47}]\n",
      "bl  [{'student3': 12}, {'student4': 14}, {'student9': 35}, {'student6': 43}, {'student1': 45}]\n",
      "cl  [{'student9': 35}, {'student6': 43}, {'student1': 45}, {'student7': 47}, {'student5': 48}]\n"
     ]
    }
   ],
   "source": [
    "students=['student1','student2','student3','student4','student5','student6','student7','student8','student9','student10'] \n",
    "marks = [45, 78, 12, 14, 48, 43, 47, 98, 35, 80]\n",
    "\n",
    "dic = {}\n",
    "for i in range(len(marks)):\n",
    "    dic[marks[i]] = students[i]\n",
    "\n",
    "marks.sort()\n",
    "\n",
    "al=[]\n",
    "bl=[]\n",
    "cl=[]\n",
    "\n",
    "for i in range(5):\n",
    "    bl.append(dict({dic[marks[i]]: marks[i]}))\n",
    "    al.append(dict({dic[marks[-i-1]]: marks[-i-1]}))\n",
    "    \n",
    "for i in range(len(marks)):\n",
    "    if (marks[i]/100 < 0.25 or marks[i]/100 > 0.75):\n",
    "        continue\n",
    "    cl.append(dict({dic[marks[i]]: marks[i]}))\n",
    "\n",
    "print(\"al \", al)\n",
    "print(\"bl \", bl)\n",
    "print(\"cl \", cl)\n",
    "    \n"
   ]
  },
  {
   "cell_type": "markdown",
   "id": "b7d22940",
   "metadata": {},
   "source": [
    "<h3>Solution 2</h3>"
   ]
  },
  {
   "cell_type": "code",
   "execution_count": 20,
   "id": "6420c4a2",
   "metadata": {
    "scrolled": true
   },
   "outputs": [
    {
     "name": "stdout",
     "output_type": "stream",
     "text": [
      "a: \n",
      "\n",
      "{'student8': 98, 'student10': 80, 'student2': 78, 'student5': 48, 'student7': 47}\n",
      "b: \n",
      "\n",
      "{'student3': 12, 'student4': 14, 'student9': 35, 'student6': 43, 'student1': 45}\n",
      "c: \n",
      "\n",
      "{'student9': 35, 'student6': 43, 'student1': 45, 'student7': 47, 'student5': 48}\n"
     ]
    }
   ],
   "source": [
    "students=['student1','student2','student3','student4','student5','student6','student7','student8','student9','student10'] \n",
    "marks = [45, 78, 12, 14, 48, 43, 47, 98, 35, 80]\n",
    "\n",
    "# This will store indexes based on marks descending order\n",
    "marks_index_r = sorted(range(len(marks)), key = lambda itr : marks[itr], reverse=True) \n",
    "al = {students[marks_index_r[i]]: marks[marks_index_r[i]] for i in range(5)}\n",
    "bl = {students[marks_index_r[-i-1]]: marks[marks_index_r[-i-1]] for i in range(5)}\n",
    "cl = {students[marks_index_r[-i-1]]: marks[marks_index_r[-i-1]] for i in range(len(marks)) if marks[marks_index_r[-i-1]]/100 > 0.25 and marks[marks_index_r[-i-1]]/100 < 0.75}\n",
    "\n",
    "print(\"a: \\n\")\n",
    "print(al)\n",
    "print(\"b: \\n\")\n",
    "print(bl)\n",
    "print(\"c: \\n\")\n",
    "print(cl)"
   ]
  },
  {
   "cell_type": "markdown",
   "id": "d4b8e460",
   "metadata": {},
   "source": [
    "<h3> Q5: Find the closest points</h3>\n",
    "\n",
    "consider you have given n data points in the form of list of tuples like S=[(x1,y1),(x2,y2),(x3,y3),(x4,y4),(x5,y5),..,(xn,yn)] and a point P=(p,q) <br> your task is to find 5 closest points(based on cosine distance) in S from P\n",
    "<br>cosine distance between two points (x,y) and (p,q) is defind as $cos^{-1}(\\frac{(x\\cdot p+y\\cdot q)}{\\sqrt(x^2+y^2)\\cdot\\sqrt(p^2+q^2)})$\n",
    "<pre>\n",
    "Ex:\n",
    "\n",
    "S= [(1,2),(3,4),(-1,1),(6,-7),(0, 6),(-5,-8),(-1,-1),(6,0),(1,-1)]\n",
    "P= (3,-4)\n",
    "Output:\n",
    "(6,-7)\n",
    "(1,-1)\n",
    "(6,0)\n",
    "(-5,-8)\n",
    "(-1,-1)\n",
    "</pre>"
   ]
  },
  {
   "cell_type": "code",
   "execution_count": 37,
   "id": "9e2a9f71",
   "metadata": {},
   "outputs": [
    {
     "name": "stdout",
     "output_type": "stream",
     "text": [
      "[3, 8, 7, 5, 6, 1, 0, 4, 2]\n",
      "[(6, -7), (1, -1), (6, 0), (-5, -8), (-1, -1)]\n"
     ]
    }
   ],
   "source": [
    "import math\n",
    "def closest_points(l, point):\n",
    "          \n",
    "    distance = [math.acos((point[0]*l[i][0]+point[1]*l[i][1])/math.sqrt((l[i][0]*l[i][0]+l[i][1]*l[i][1])*(point[0]*point[0]+point[1]*point[1]))) for i in range(len(l))]\n",
    "    sortedList = sorted(range(len(distance)), key=lambda it: distance[it])\n",
    "    print(sortedList)\n",
    "    result = [l[sortedList[i]] for i in range(5)]\n",
    "    \n",
    "    return result\n",
    "\n",
    "S=[(1,2),(3,4),(-1,1),(6,-7),(0, 6),(-5,-8),(-1,-1), (6,0),(1,-1)]\n",
    "P=(3,-4)\n",
    "                          \n",
    "val = closest_points(S, P)\n",
    "print(val)"
   ]
  },
  {
   "cell_type": "markdown",
   "id": "c66cc1dc",
   "metadata": {},
   "source": [
    "<h3> Q6: Find Which line separates oranges and apples</h3>\n",
    "consider you have given two set of data points in the form of list of tuples like \n",
    "<pre>\n",
    "Red =[(R11,R12),(R21,R22),(R31,R32),(R41,R42),(R51,R52),..,(Rn1,Rn2)]\n",
    "Blue=[(B11,B12),(B21,B22),(B31,B32),(B41,B42),(B51,B52),..,(Bm1,Bm2)]\n",
    "</pre>\n",
    "and set of line equations(in the string formate, i.e list of strings)\n",
    "<pre>\n",
    "Lines = [a1x+b1y+c1,a2x+b2y+c2,a3x+b3y+c3,a4x+b4y+c4,..,K lines]\n",
    "Note: you need to string parsing here and get the coefficients of x,y and intercept\n",
    "</pre>\n",
    "your task is to for each line that is given print \"YES\"/\"NO\", you will print yes, if all the red points are one side of the line and blue points are other side of the line, otherwise no\n",
    "<pre>\n",
    "Ex:\n",
    "Red= [(1,1),(2,1),(4,2),(2,4), (-1,4)]\n",
    "Blue= [(-2,-1),(-1,-2),(-3,-2),(-3,-1),(1,-3)]\n",
    "Lines=[\"1x+1y+0\",\"1x-1y+0\",\"1x+0y-3\",\"0x+1y-0.5\"]\n",
    "Output:\n",
    "YES\n",
    "NO\n",
    "NO\n",
    "YES\n",
    "</pre>"
   ]
  },
  {
   "cell_type": "code",
   "execution_count": 42,
   "id": "15f70cac",
   "metadata": {},
   "outputs": [
    {
     "name": "stdout",
     "output_type": "stream",
     "text": [
      "YES\n",
      "NO\n",
      "NO\n",
      "YES\n"
     ]
    }
   ],
   "source": [
    "def line_separation(red, blue, line):\n",
    "    xind = 0\n",
    "    yind = 0\n",
    "    rl = []\n",
    "    bl = []\n",
    "    for i in range(len(line)):\n",
    "        if (line[i] == 'x'):\n",
    "            xind = i\n",
    "        if (line[i] == 'y'):\n",
    "            yind = i\n",
    "            \n",
    "    a = float(line[0:xind]) # taking the x coefficient\n",
    "    b = float(line[xind+1: yind])\n",
    "    const = float(line[yind+1:len(line)])\n",
    "    \n",
    "    dist_plane = lambda t, a, b : 1 if (t[0]*a+t[1]*b+const) > 0 else 0\n",
    "    rl = [dist_plane(red[i], a, b) for i in range(len(red))]\n",
    "    bl = [dist_plane(blue[i], a, b) for i in range(len(blue))]\n",
    "    \n",
    "    if len(set(rl)) != 1 or len(set(bl)) != 1:\n",
    "        return \"NO\"\n",
    "    \n",
    "    if (rl[0] != bl[0]):\n",
    "        return \"YES\"\n",
    "    else:\n",
    "        return \"NO\"\n",
    "    \n",
    "Red= [(1,1),(2,1),(4,2),(2,4), (-1,4)]\n",
    "Blue= [(-2,-1),(-1,-2),(-3,-2),(-3,-1),(1,-3)]\n",
    "Lines=[\"1x+1y+0\",\"1x-1y+0\",\"1x+0y-3\",\"0x+1y-0.5\"]\n",
    "\n",
    "for line in Lines:\n",
    "    print(line_separation(Red, Blue, line))"
   ]
  },
  {
   "cell_type": "markdown",
   "id": "a5a87e2c",
   "metadata": {},
   "source": [
    "<h3> Q9: Given two sentances S1, S2</h3>\n",
    "You will be given two sentances S1, S2 your task is to find \n",
    "<pre>\n",
    "a. Number of common words between S1, S2\n",
    "b. Words in S1 but not in S2\n",
    "c. Words in S2 but not in S1\n",
    "</pre>\n",
    "\n",
    "Ex: \n",
    "<pre>\n",
    "S1= \"the first column F will contain only 5 uniques values\"\n",
    "S2= \"the second column S will contain only 3 uniques values\"\n",
    "Output:\n",
    "a. 7\n",
    "b. ['first','F','5']\n",
    "c. ['second','S','3']\n",
    "</pre>"
   ]
  },
  {
   "cell_type": "code",
   "execution_count": 51,
   "id": "a6e96264",
   "metadata": {},
   "outputs": [
    {
     "name": "stdout",
     "output_type": "stream",
     "text": [
      "A: \n",
      "7\n",
      "B: \n",
      "{'first', 'F', '5'}\n",
      "C: \n",
      "{'3', 'second', 'S'}\n"
     ]
    }
   ],
   "source": [
    "S1= \"the first column F will contain only 5 uniques values\"\n",
    "S2= \"the second column S will contain only 3 uniques values\"\n",
    "\n",
    "s1 = set(S1.split())\n",
    "s2 = set(S2.split())\n",
    "\n",
    "print(\"A: \")\n",
    "print(len(s1 & s2))\n",
    "print(\"B: \")\n",
    "print(s1-s2)\n",
    "print(\"C: \")\n",
    "print(s2-s1)"
   ]
  },
  {
   "cell_type": "code",
   "execution_count": null,
   "id": "a786c036",
   "metadata": {},
   "outputs": [],
   "source": []
  }
 ],
 "metadata": {
  "kernelspec": {
   "display_name": "Python 3",
   "language": "python",
   "name": "python3"
  },
  "language_info": {
   "codemirror_mode": {
    "name": "ipython",
    "version": 3
   },
   "file_extension": ".py",
   "mimetype": "text/x-python",
   "name": "python",
   "nbconvert_exporter": "python",
   "pygments_lexer": "ipython3",
   "version": "3.8.2"
  }
 },
 "nbformat": 4,
 "nbformat_minor": 5
}
