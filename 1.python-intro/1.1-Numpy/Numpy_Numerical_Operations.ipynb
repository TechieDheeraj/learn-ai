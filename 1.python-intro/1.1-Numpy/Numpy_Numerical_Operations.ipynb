{
 "cells": [
  {
   "cell_type": "code",
   "execution_count": 1,
   "id": "03584f77",
   "metadata": {},
   "outputs": [],
   "source": [
    "import numpy as np\n"
   ]
  },
  {
   "cell_type": "code",
   "execution_count": 2,
   "id": "bda3f091",
   "metadata": {},
   "outputs": [
    {
     "name": "stdout",
     "output_type": "stream",
     "text": [
      "[2 3 4 5]\n",
      "[ 1  4  9 16]\n"
     ]
    }
   ],
   "source": [
    "a = np.array([1,2,3,4])\n",
    "print(a+1) # element wise operation\n",
    "print(a**2) # element wise operation"
   ]
  },
  {
   "cell_type": "code",
   "execution_count": 3,
   "id": "f4660c6a",
   "metadata": {},
   "outputs": [
    {
     "data": {
      "text/plain": [
       "array([-1.,  0.,  1.,  2.])"
      ]
     },
     "execution_count": 3,
     "metadata": {},
     "output_type": "execute_result"
    }
   ],
   "source": [
    "b = np.ones(4)+1\n",
    "a-b   #substraction of arrays"
   ]
  },
  {
   "cell_type": "code",
   "execution_count": 4,
   "id": "28047f6c",
   "metadata": {},
   "outputs": [
    {
     "data": {
      "text/plain": [
       "array([2., 4., 6., 8.])"
      ]
     },
     "execution_count": 4,
     "metadata": {},
     "output_type": "execute_result"
    }
   ],
   "source": [
    "a * b  #Multiplication of arrays"
   ]
  },
  {
   "cell_type": "code",
   "execution_count": 5,
   "id": "76bfec6f",
   "metadata": {},
   "outputs": [
    {
     "name": "stdout",
     "output_type": "stream",
     "text": [
      "[[ 1  0  0  0]\n",
      " [ 0  4  0  0]\n",
      " [ 0  0  9  0]\n",
      " [ 0  0  0 16]]\n",
      "[[ 1  0  0  0]\n",
      " [ 0  4  0  0]\n",
      " [ 0  0  9  0]\n",
      " [ 0  0  0 16]]\n"
     ]
    }
   ],
   "source": [
    "# Matrix Multiplication\n",
    "\n",
    "c = np.diag([1,2,3,4])\n",
    "print(c*c)\n",
    "\n",
    "print(c.dot(c))"
   ]
  },
  {
   "cell_type": "code",
   "execution_count": 6,
   "id": "6220bd9b",
   "metadata": {},
   "outputs": [
    {
     "name": "stdout",
     "output_type": "stream",
     "text": [
      "[False False  True False]\n",
      "[ True  True False  True]\n",
      "True\n",
      "False\n"
     ]
    }
   ],
   "source": [
    "a = np.array([1,2,3,4])\n",
    "b = np.array([5,6,3,8])\n",
    "c = np.array([1,2,3,4])\n",
    "\n",
    "print(a==b)  # element wise comparison\n",
    "print(b>a)\n",
    "print(np.array_equal(a,c)) # Also checks each element and return boolean\n",
    "print(np.array_equal(a,b))"
   ]
  },
  {
   "cell_type": "code",
   "execution_count": 7,
   "id": "c8f681ca",
   "metadata": {},
   "outputs": [
    {
     "name": "stdout",
     "output_type": "stream",
     "text": [
      "[False False False False]\n",
      "[ True  True  True  True]\n"
     ]
    }
   ],
   "source": [
    "#logical Operations\n",
    "\n",
    "a = np.array([1,0,0,1])\n",
    "b = np.array([0,1,1,0])\n",
    "\n",
    "print(np.logical_and(a, b))\n",
    "print(np.logical_or(a,b))"
   ]
  },
  {
   "cell_type": "code",
   "execution_count": 8,
   "id": "a0da57e6",
   "metadata": {},
   "outputs": [
    {
     "name": "stdout",
     "output_type": "stream",
     "text": [
      "[0 1 2 3 4]\n",
      "[ 0.          0.84147098  0.90929743  0.14112001 -0.7568025 ]\n",
      "[      -inf 0.         0.69314718 1.09861229 1.38629436]\n",
      "[ 1.          2.71828183  7.3890561  20.08553692 54.59815003]\n"
     ]
    },
    {
     "name": "stderr",
     "output_type": "stream",
     "text": [
      "<ipython-input-8-f8ce813b7440>:5: RuntimeWarning: divide by zero encountered in log\n",
      "  print(np.log(a))  # return log(a[0]) .... log(a[4])\n"
     ]
    }
   ],
   "source": [
    "a = np.arange(5)\n",
    "print(a)\n",
    "\n",
    "print(np.sin(a)) # return sin(a[0]) ... sin(a[4])\n",
    "print(np.log(a))  # return log(a[0]) .... log(a[4])\n",
    "print(np.exp(a))  # e^a[0] ... e^a[4]"
   ]
  },
  {
   "cell_type": "code",
   "execution_count": 9,
   "id": "b616f50c",
   "metadata": {},
   "outputs": [
    {
     "ename": "ValueError",
     "evalue": "operands could not be broadcast together with shapes (4,) (2,) ",
     "output_type": "error",
     "traceback": [
      "\u001b[0;31m---------------------------------------------------------------------------\u001b[0m",
      "\u001b[0;31mValueError\u001b[0m                                Traceback (most recent call last)",
      "\u001b[0;32m<ipython-input-9-ddd48cbdbf11>\u001b[0m in \u001b[0;36m<module>\u001b[0;34m\u001b[0m\n\u001b[1;32m      2\u001b[0m \u001b[0;34m\u001b[0m\u001b[0m\n\u001b[1;32m      3\u001b[0m \u001b[0ma\u001b[0m \u001b[0;34m=\u001b[0m \u001b[0mnp\u001b[0m\u001b[0;34m.\u001b[0m\u001b[0marange\u001b[0m\u001b[0;34m(\u001b[0m\u001b[0;36m4\u001b[0m\u001b[0;34m)\u001b[0m\u001b[0;34m\u001b[0m\u001b[0;34m\u001b[0m\u001b[0m\n\u001b[0;32m----> 4\u001b[0;31m \u001b[0mb\u001b[0m \u001b[0;34m=\u001b[0m \u001b[0ma\u001b[0m\u001b[0;34m+\u001b[0m\u001b[0mnp\u001b[0m\u001b[0;34m.\u001b[0m\u001b[0marray\u001b[0m\u001b[0;34m(\u001b[0m\u001b[0;34m[\u001b[0m\u001b[0;36m1\u001b[0m\u001b[0;34m,\u001b[0m\u001b[0;36m3\u001b[0m\u001b[0;34m]\u001b[0m\u001b[0;34m)\u001b[0m\u001b[0;34m\u001b[0m\u001b[0;34m\u001b[0m\u001b[0m\n\u001b[0m",
      "\u001b[0;31mValueError\u001b[0m: operands could not be broadcast together with shapes (4,) (2,) "
     ]
    }
   ],
   "source": [
    "# shape mismatch\n",
    "\n",
    "a = np.arange(4)\n",
    "b = a+np.array([1,3])"
   ]
  },
  {
   "cell_type": "code",
   "execution_count": 10,
   "id": "8104913f",
   "metadata": {},
   "outputs": [
    {
     "name": "stdout",
     "output_type": "stream",
     "text": [
      "10\n",
      "sum : 10\n"
     ]
    }
   ],
   "source": [
    "x = np.array([1,2,3,4])\n",
    "print(np.sum(x))\n",
    "print(\"sum :\", x.sum())"
   ]
  },
  {
   "cell_type": "code",
   "execution_count": 11,
   "id": "4f0da284",
   "metadata": {},
   "outputs": [
    {
     "name": "stdout",
     "output_type": "stream",
     "text": [
      "[3 3]\n",
      "[2 4]\n"
     ]
    }
   ],
   "source": [
    "x = np.array([[1,1],[2,2]])\n",
    "print(x.sum(axis=0)) # sum of coloumns\n",
    "print(x.sum(axis=1)) # sum of rows"
   ]
  },
  {
   "cell_type": "code",
   "execution_count": 12,
   "id": "15f0bc9e",
   "metadata": {},
   "outputs": [
    {
     "name": "stdout",
     "output_type": "stream",
     "text": [
      "min element Index 0, element 1\n",
      "max element Index 2, element 3\n"
     ]
    }
   ],
   "source": [
    "x = np.array([1,2,3])\n",
    "print(\"min element Index {}, element {}\".format(x.argmin(), x.min()))\n",
    "print(\"max element Index {}, element {}\".format(x.argmax(), x.max()))\n"
   ]
  },
  {
   "cell_type": "code",
   "execution_count": 13,
   "id": "cc7d750b",
   "metadata": {},
   "outputs": [
    {
     "name": "stdout",
     "output_type": "stream",
     "text": [
      "False\n",
      "True\n"
     ]
    }
   ],
   "source": [
    "#logical operations\n",
    "print(np.all([True, False, True, False]))   # Logical AND (Return True if all are True)\n",
    "print(np.any([True, False, False, False])) # Logical OR (Return True if any is True)"
   ]
  },
  {
   "cell_type": "code",
   "execution_count": 14,
   "id": "93a77963",
   "metadata": {},
   "outputs": [
    {
     "name": "stdout",
     "output_type": "stream",
     "text": [
      "False\n",
      "True\n"
     ]
    }
   ],
   "source": [
    "a = np.zeros((50, 50))\n",
    "print(np.any(a!=0))  # returns true if any one in matrix is True\n",
    "a[0,4] = 1\n",
    "print(np.any(a!=0))"
   ]
  },
  {
   "cell_type": "code",
   "execution_count": 15,
   "id": "de4a9c8b",
   "metadata": {},
   "outputs": [
    {
     "name": "stdout",
     "output_type": "stream",
     "text": [
      "True\n"
     ]
    }
   ],
   "source": [
    "print(np.all(a==a)) # returns true as all elements match"
   ]
  },
  {
   "cell_type": "code",
   "execution_count": 16,
   "id": "e1f2c0bb",
   "metadata": {},
   "outputs": [
    {
     "data": {
      "text/plain": [
       "True"
      ]
     },
     "execution_count": 16,
     "metadata": {},
     "output_type": "execute_result"
    }
   ],
   "source": [
    "a = np.array([1,2,3,1])\n",
    "b = np.array([2,2,3,2])\n",
    "c = np.array([6,4,4,5])\n",
    "\n",
    "'''\n",
    "  checks if all elements of a is less than or equal to b and returns boolean array\n",
    "  and all elements of b is less than or equal to c and returns boolean array\n",
    "  then perform AND operation on each element and returns boolean array then checks\n",
    "  Logical OR with all() method and returns True if all the elements are True\n",
    "'''\n",
    "\n",
    "((a <= b) & (b <= c)).all() \n"
   ]
  },
  {
   "cell_type": "code",
   "execution_count": 17,
   "id": "b22d89f0",
   "metadata": {},
   "outputs": [
    {
     "name": "stdout",
     "output_type": "stream",
     "text": [
      "1.75\n",
      "1.5\n",
      "0.82915619758885\n"
     ]
    }
   ],
   "source": [
    "# statistics\n",
    "\n",
    "x = np.array([1,2,3,1])\n",
    "print(x.mean()) # average of all the elements\n",
    "print(np.median(x)) # middle element if size of array is odd and average of two mid elements if size is even\n",
    "print(x.std()) # standard deviation"
   ]
  },
  {
   "cell_type": "code",
   "execution_count": 18,
   "id": "905c8ef2",
   "metadata": {},
   "outputs": [
    {
     "name": "stdout",
     "output_type": "stream",
     "text": [
      "[2. 5.]\n"
     ]
    }
   ],
   "source": [
    "y = np.array([[1,2,3], [4, 5, 6]])\n",
    "print(np.median(y, axis=-1)) # calculate median of last dimension\n",
    "\n",
    "# axis 0 -> columns\n",
    "# axis 1 -> rows      # this is the last dimension so -1 also means rows"
   ]
  },
  {
   "cell_type": "code",
   "execution_count": 19,
   "id": "ad23496d",
   "metadata": {},
   "outputs": [
    {
     "name": "stdout",
     "output_type": "stream",
     "text": [
      "[[0 1 2 3]\n",
      " [0 1 2 3]\n",
      " [0 1 2 3]]\n",
      "************* \n",
      "[[0 0 0]\n",
      " [1 1 1]\n",
      " [2 2 2]\n",
      " [3 3 3]]\n"
     ]
    }
   ],
   "source": [
    "# Numpy Broadcasting\n",
    "\n",
    "a = np.tile(np.arange(4), (3, 1))  # tiles generally replicate the rows and cols\n",
    "# (3,1) means replicate row which we got from np.arrange() 3 times and each column 1 time \n",
    "print(a)\n",
    "\n",
    "print(\"************* \")\n",
    "print(a.T) # transpose of matrix\n",
    "a = a.T"
   ]
  },
  {
   "cell_type": "code",
   "execution_count": 20,
   "id": "a746a792",
   "metadata": {},
   "outputs": [
    {
     "name": "stdout",
     "output_type": "stream",
     "text": [
      "[[0 1 2]\n",
      " [1 2 3]\n",
      " [2 3 4]\n",
      " [3 4 5]]\n"
     ]
    }
   ],
   "source": [
    "b = np.array([0,1,2])\n",
    "\n",
    "print(a+b) # this will create tiles for b array and replicate rows 4 times to match with a and then add each elements"
   ]
  },
  {
   "cell_type": "code",
   "execution_count": 21,
   "id": "5ddc0e63",
   "metadata": {},
   "outputs": [
    {
     "name": "stdout",
     "output_type": "stream",
     "text": [
      "[0 1 2 3] (4,)\n",
      "[[0]\n",
      " [1]\n",
      " [2]\n",
      " [3]] (4, 1)\n",
      " ***** Addition with Numpy Broadcasting ****** \n",
      "[[0 1 2]\n",
      " [1 2 3]\n",
      " [2 3 4]\n",
      " [3 4 5]]\n"
     ]
    }
   ],
   "source": [
    "# In Numpy broadcasting, if we add two arrays if shapes are not matching it will add tiles\n",
    "\n",
    "'''\n",
    "  In Numpy broadcasting first shape has to be equal or less than in one dimension\n",
    "  and in replication it will match both the shapes as same before adding them\n",
    "'''\n",
    "\n",
    "a = np.arange(4)\n",
    "print(a, a.shape)\n",
    "a = a[:, np.newaxis]\n",
    "print(a, a.shape) # Adds new axis and becomes 2D array with 4 rows and 1 cols\n",
    "\n",
    "print(\" ***** Addition with Numpy Broadcasting ****** \")\n",
    "\n",
    "print(a+b)"
   ]
  },
  {
   "cell_type": "code",
   "execution_count": 26,
   "id": "529b058f",
   "metadata": {},
   "outputs": [
    {
     "name": "stdout",
     "output_type": "stream",
     "text": [
      "[1 2 3 4 5 6]\n",
      "*****\n",
      "[[1 4]\n",
      " [2 5]\n",
      " [3 6]]\n",
      "*****\n",
      "[1 4 2 5 3 6]\n"
     ]
    }
   ],
   "source": [
    "# Array Shape Manipulation\n",
    "\n",
    "a = np.array([[1,2,3], [4,5,6]])\n",
    "print(a.ravel())  # flatten the array in 1-D \n",
    "a=a.T\n",
    "print(\"*****\")\n",
    "print(a)\n",
    "print(\"*****\")\n",
    "print(a.ravel())"
   ]
  },
  {
   "cell_type": "code",
   "execution_count": 23,
   "id": "4374920f",
   "metadata": {},
   "outputs": [
    {
     "name": "stdout",
     "output_type": "stream",
     "text": [
      "[[1 2 3]\n",
      " [4 5 6]]\n",
      "[1 2 3 4 5 6]\n",
      "[[1 2 3]\n",
      " [4 5 6]]\n",
      "******** \n",
      "Reshaping does not return a copy here\n",
      "[[ 1 44  3]\n",
      " [ 4  5  6]]\n"
     ]
    }
   ],
   "source": [
    "a = np.array([[1,2,3,], [4,5,6]])\n",
    "print(a)\n",
    "b = a.ravel()\n",
    "print(b)\n",
    "b= b.reshape((2,3)) # reshaping not returning a copy but it does sometimes\n",
    "print(b)\n",
    "\n",
    "b[0,1] = 44    # a and b are pointing to same memory location, data is not copied into b\n",
    "print(\"******** \")\n",
    "print(\"Reshaping does not return a copy here\")\n",
    "print(a)"
   ]
  },
  {
   "cell_type": "code",
   "execution_count": 24,
   "id": "8e625437",
   "metadata": {},
   "outputs": [
    {
     "name": "stdout",
     "output_type": "stream",
     "text": [
      "(2, 3)\n",
      "(2, 3)\n",
      "Reshaping does return a copy here\n",
      "[[0. 0. 0.]\n",
      " [0. 0. 0.]]\n"
     ]
    }
   ],
   "source": [
    "a = np.zeros((2,3))\n",
    "print(a.shape)\n",
    "b = a.T.reshape(2,3)\n",
    "print(b.shape)\n",
    "b[0,1] = 22\n",
    "\n",
    "print(\"Reshaping does return a copy here\")\n",
    "print(a)"
   ]
  },
  {
   "cell_type": "code",
   "execution_count": 25,
   "id": "9cea0c09",
   "metadata": {},
   "outputs": [
    {
     "name": "stdout",
     "output_type": "stream",
     "text": [
      "[1 2 3]\n"
     ]
    }
   ],
   "source": [
    "z = np.array([1,2,3])\n",
    "print(z)"
   ]
  },
  {
   "cell_type": "code",
   "execution_count": 26,
   "id": "b5107337",
   "metadata": {},
   "outputs": [
    {
     "data": {
      "text/plain": [
       "array([[1],\n",
       "       [2],\n",
       "       [3]])"
      ]
     },
     "execution_count": 26,
     "metadata": {},
     "output_type": "execute_result"
    }
   ],
   "source": [
    "z[:, np.newaxis]"
   ]
  },
  {
   "cell_type": "code",
   "execution_count": 27,
   "id": "049eee65",
   "metadata": {},
   "outputs": [
    {
     "name": "stdout",
     "output_type": "stream",
     "text": [
      "[[[ 0  1]\n",
      "  [ 2  3]\n",
      "  [ 4  5]]\n",
      "\n",
      " [[ 6  7]\n",
      "  [ 8  9]\n",
      "  [10 11]]\n",
      "\n",
      " [[12 13]\n",
      "  [14 15]\n",
      "  [16 17]]\n",
      "\n",
      " [[18 19]\n",
      "  [20 21]\n",
      "  [22 23]]] (4, 3, 2)\n"
     ]
    }
   ],
   "source": [
    "a = np.arange(4*3*2).reshape(4,3,2) # 3-D Matrix\n",
    "\n",
    "# 4 x 3 x 2 -> means it is 4 matrix of ( 3 x 2 ) -> 3 rows and 2 cols\n",
    "\n",
    "print(a, a.shape)"
   ]
  },
  {
   "cell_type": "code",
   "execution_count": 28,
   "id": "0166910d",
   "metadata": {},
   "outputs": [
    {
     "name": "stdout",
     "output_type": "stream",
     "text": [
      "5\n"
     ]
    }
   ],
   "source": [
    " print(a[0, 2, 1])  # Go to first matrix, 3rd row, 2nd column (as indices start from 0)"
   ]
  },
  {
   "cell_type": "code",
   "execution_count": 29,
   "id": "754cf24d",
   "metadata": {},
   "outputs": [
    {
     "name": "stdout",
     "output_type": "stream",
     "text": [
      "[0 1 2 3]\n",
      "[0 1 2 3 0 0 0 0] 4710604208\n",
      "[0 1 2 3 0 0 0 0] 4710604208\n"
     ]
    },
    {
     "ename": "ValueError",
     "evalue": "cannot resize an array that references or is referenced\nby another array in this way.\nUse the np.resize function or refcheck=False",
     "output_type": "error",
     "traceback": [
      "\u001b[0;31m---------------------------------------------------------------------------\u001b[0m",
      "\u001b[0;31mValueError\u001b[0m                                Traceback (most recent call last)",
      "\u001b[0;32m<ipython-input-29-00d538b45606>\u001b[0m in \u001b[0;36m<module>\u001b[0;34m\u001b[0m\n\u001b[1;32m      6\u001b[0m \u001b[0mprint\u001b[0m\u001b[0;34m(\u001b[0m\u001b[0mb\u001b[0m\u001b[0;34m,\u001b[0m \u001b[0mid\u001b[0m\u001b[0;34m(\u001b[0m\u001b[0mb\u001b[0m\u001b[0;34m)\u001b[0m\u001b[0;34m)\u001b[0m\u001b[0;34m\u001b[0m\u001b[0;34m\u001b[0m\u001b[0m\n\u001b[1;32m      7\u001b[0m \u001b[0;34m\u001b[0m\u001b[0m\n\u001b[0;32m----> 8\u001b[0;31m \u001b[0ma\u001b[0m\u001b[0;34m.\u001b[0m\u001b[0mresize\u001b[0m\u001b[0;34m(\u001b[0m\u001b[0;36m9\u001b[0m\u001b[0;34m)\u001b[0m  \u001b[0;31m# won't allow to resize as another array is also referencing the same location\u001b[0m\u001b[0;34m\u001b[0m\u001b[0;34m\u001b[0m\u001b[0m\n\u001b[0m\u001b[1;32m      9\u001b[0m \u001b[0;34m\u001b[0m\u001b[0m\n",
      "\u001b[0;31mValueError\u001b[0m: cannot resize an array that references or is referenced\nby another array in this way.\nUse the np.resize function or refcheck=False"
     ]
    }
   ],
   "source": [
    "a = np.arange(4)\n",
    "print(a)\n",
    "a.resize((8,))\n",
    "print(a, id(a))\n",
    "b = a\n",
    "print(b, id(b))\n",
    "\n",
    "a.resize(9)  # won't allow to resize as another array is also referencing the same location\n",
    "\n"
   ]
  },
  {
   "cell_type": "code",
   "execution_count": 30,
   "id": "37b57de9",
   "metadata": {},
   "outputs": [
    {
     "name": "stdout",
     "output_type": "stream",
     "text": [
      "[[4 2 6]\n",
      " [9 5 7]]\n",
      "2.32 µs ± 102 ns per loop (mean ± std. dev. of 7 runs, 100000 loops each)\n"
     ]
    }
   ],
   "source": [
    "a = np.array([[4,2,6], [9,5,7]])\n",
    "print(a)\n",
    "%timeit b = np.sort(a, axis=1)\n",
    "#print(b)"
   ]
  },
  {
   "cell_type": "code",
   "execution_count": 31,
   "id": "87d17719",
   "metadata": {},
   "outputs": [
    {
     "name": "stdout",
     "output_type": "stream",
     "text": [
      "490 ns ± 74.4 ns per loop (mean ± std. dev. of 7 runs, 1000000 loops each)\n",
      "[[2 4 6]\n",
      " [5 7 9]]\n"
     ]
    }
   ],
   "source": [
    "%timeit a.sort(axis=1)\n",
    "print(a)"
   ]
  },
  {
   "cell_type": "code",
   "execution_count": 32,
   "id": "90cd71bd",
   "metadata": {},
   "outputs": [
    {
     "name": "stdout",
     "output_type": "stream",
     "text": [
      "[1 2 0 3]\n",
      "[ 4  8  9 10]\n"
     ]
    }
   ],
   "source": [
    "a = np.array([9,4, 8, 10])\n",
    "\n",
    "j = np.argsort(a)\n",
    "\n",
    "print(j) # returns indices order in which sorted data look like\n",
    "\n",
    "print(a[j])"
   ]
  },
  {
   "cell_type": "code",
   "execution_count": null,
   "id": "8dd89b55",
   "metadata": {},
   "outputs": [],
   "source": []
  }
 ],
 "metadata": {
  "kernelspec": {
   "display_name": "Python 3",
   "language": "python",
   "name": "python3"
  },
  "language_info": {
   "codemirror_mode": {
    "name": "ipython",
    "version": 3
   },
   "file_extension": ".py",
   "mimetype": "text/x-python",
   "name": "python",
   "nbconvert_exporter": "python",
   "pygments_lexer": "ipython3",
   "version": "3.8.2"
  }
 },
 "nbformat": 4,
 "nbformat_minor": 5
}
